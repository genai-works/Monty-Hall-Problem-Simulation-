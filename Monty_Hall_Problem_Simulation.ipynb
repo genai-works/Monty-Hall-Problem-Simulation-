{
  "nbformat": 4,
  "nbformat_minor": 0,
  "metadata": {
    "colab": {
      "provenance": []
    },
    "kernelspec": {
      "name": "python3",
      "display_name": "Python 3"
    },
    "language_info": {
      "name": "python"
    }
  },
  "cells": [
    {
      "cell_type": "markdown",
      "source": [
        "Step 1: Import required libraries"
      ],
      "metadata": {
        "id": "CLu-NfdHxl1b"
      }
    },
    {
      "cell_type": "code",
      "execution_count": null,
      "metadata": {
        "id": "DKlURCogxks9"
      },
      "outputs": [],
      "source": [
        "# Import necessary libraries\n",
        "import numpy as np\n",
        "import random\n"
      ]
    },
    {
      "cell_type": "markdown",
      "source": [
        "Step 2: Define a function to simulate the Monty Hall game with the \"stay\" strategy"
      ],
      "metadata": {
        "id": "xcYUHPVVxnv4"
      }
    },
    {
      "cell_type": "code",
      "source": [
        "# Function to simulate Monty Hall game where the player stays with the initial choice\n",
        "def monty_hall_stay():\n",
        "    # Initialize doors: 0, 1, and 2 where only one has a car (randomly placed)\n",
        "    doors = [0, 1, 2]\n",
        "    car_door = random.choice(doors)  # Car is placed behind one of the doors\n",
        "\n",
        "    # Player makes an initial choice\n",
        "    player_choice = random.choice(doors)\n",
        "\n",
        "    # Host opens a door that is neither the player's choice nor the car door\n",
        "    available_doors = [door for door in doors if door != player_choice and door != car_door]\n",
        "    host_opens = random.choice(available_doors)\n",
        "\n",
        "    # Player stays with their initial choice\n",
        "    return player_choice == car_door  # Return True if player wins, False otherwise\n"
      ],
      "metadata": {
        "id": "9EgEvDfZxpAO"
      },
      "execution_count": null,
      "outputs": []
    },
    {
      "cell_type": "markdown",
      "source": [
        "Step 3: Define a function to simulate the Monty Hall game with the \"switch\" strategy"
      ],
      "metadata": {
        "id": "fZujUE_qxq2Z"
      }
    },
    {
      "cell_type": "code",
      "source": [
        "# Function to simulate Monty Hall game where the player switches their choice\n",
        "def monty_hall_switch():\n",
        "    # Initialize doors: 0, 1, and 2 where only one has a car (randomly placed)\n",
        "    doors = [0, 1, 2]\n",
        "    car_door = random.choice(doors)  # Car is placed behind one of the doors\n",
        "\n",
        "    # Player makes an initial choice\n",
        "    player_choice = random.choice(doors)\n",
        "\n",
        "    # Host opens a door that is neither the player's choice nor the car door\n",
        "    available_doors = [door for door in doors if door != player_choice and door != car_door]\n",
        "    host_opens = random.choice(available_doors)\n",
        "\n",
        "    # Player switches their choice to the remaining door\n",
        "    remaining_door = [door for door in doors if door != player_choice and door != host_opens][0]\n",
        "\n",
        "    # Return True if the player wins after switching, False otherwise\n",
        "    return remaining_door == car_door\n"
      ],
      "metadata": {
        "id": "RwzZfwqqxqS0"
      },
      "execution_count": null,
      "outputs": []
    },
    {
      "cell_type": "markdown",
      "source": [
        "Step 4: Simulate the Monty Hall problem multiple times for both strategies"
      ],
      "metadata": {
        "id": "BBaQC43Uxu50"
      }
    },
    {
      "cell_type": "code",
      "source": [
        "# Function to run simulations and calculate win rates for both strategies\n",
        "def simulate_monty_hall(n_trials):\n",
        "    stay_wins = 0\n",
        "    switch_wins = 0\n",
        "\n",
        "    # Simulate the game n_trials times for both strategies\n",
        "    for _ in range(n_trials):\n",
        "        if monty_hall_stay():\n",
        "            stay_wins += 1\n",
        "        if monty_hall_switch():\n",
        "            switch_wins += 1\n",
        "\n",
        "    # Calculate the win percentages for both strategies\n",
        "    stay_win_rate = (stay_wins / n_trials) * 100\n",
        "    switch_win_rate = (switch_wins / n_trials) * 100\n",
        "\n",
        "    return stay_win_rate, switch_win_rate\n"
      ],
      "metadata": {
        "id": "F2beHZdgxwXT"
      },
      "execution_count": null,
      "outputs": []
    },
    {
      "cell_type": "markdown",
      "source": [
        "Step 5: Run the simulation and display results"
      ],
      "metadata": {
        "id": "cJ42EViMxxv2"
      }
    },
    {
      "cell_type": "code",
      "source": [
        "# Set number of trials for the simulation\n",
        "n_trials = 10000  # You can change this number for more accurate results\n",
        "\n",
        "# Run the simulation\n",
        "stay_win_rate, switch_win_rate = simulate_monty_hall(n_trials)\n",
        "\n",
        "# Display the results\n",
        "print(f\"After {n_trials} trials:\")\n",
        "print(f\"Win rate if you stay with your initial choice: {stay_win_rate:.2f}%\")\n",
        "print(f\"Win rate if you switch your choice: {switch_win_rate:.2f}%\")\n"
      ],
      "metadata": {
        "id": "OTcE60HVxzJq"
      },
      "execution_count": null,
      "outputs": []
    },
    {
      "cell_type": "code",
      "source": [],
      "metadata": {
        "id": "ykb780t4x0SW"
      },
      "execution_count": null,
      "outputs": []
    }
  ]
}